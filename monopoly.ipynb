{
 "cells": [
  {
   "cell_type": "markdown",
   "metadata": {},
   "source": [
    "# Monopoly Statistical Analysis\n",
    "\n",
    "by Eric Bennett"
   ]
  },
  {
   "cell_type": "markdown",
   "metadata": {},
   "source": [
    "In this analyis I will be taking a look at the probabilities of landing on each specific space in Monopoly, and with that a cost-benefit analysis of the different property chains in Monopoly. This may seem simple in theory with fair dice, but Monopoly has several ways of shifting the players location around the board, including the Go to Jail tile, the potential of teleportation with Chance and Community Chest cards, the impacts of jail on rolling different amounts, etc.\n",
    "\n",
    "To begin to answer this question I have created a simple simulation of a Monopoly game with a single player circling the board in N rolls, accounting for jail rules (three tries)"
   ]
  }
 ],
 "metadata": {
  "kernelspec": {
   "display_name": "Python 3.11.7 64-bit",
   "language": "python",
   "name": "python3"
  },
  "language_info": {
   "name": "python",
   "version": "3.11.7"
  },
  "orig_nbformat": 4,
  "vscode": {
   "interpreter": {
    "hash": "b0fa6594d8f4cbf19f97940f81e996739fb7646882a419484c72d19e05852a7e"
   }
  }
 },
 "nbformat": 4,
 "nbformat_minor": 2
}
